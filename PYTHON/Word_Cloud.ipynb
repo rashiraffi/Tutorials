{
  "nbformat": 4,
  "nbformat_minor": 0,
  "metadata": {
    "colab": {
      "name": "Word_Cloud.ipynb",
      "provenance": [],
      "collapsed_sections": []
    },
    "kernelspec": {
      "name": "python3",
      "display_name": "Python 3"
    }
  },
  "cells": [
    {
      "cell_type": "code",
      "metadata": {
        "id": "dB4MH_2YnZIV",
        "colab_type": "code",
        "colab": {}
      },
      "source": [
        "# Here are all the installs and imports you will need for your word cloud script and uploader widget\n",
        "\n",
        "!pip install wordcloud\n",
        "!pip install fileupload\n",
        "!pip install ipywidgets\n",
        "!jupyter nbextension install --py --user fileupload\n",
        "!jupyter nbextension enable --py fileupload\n",
        "\n",
        "import wordcloud\n",
        "import numpy as np\n",
        "from matplotlib import pyplot as plt\n",
        "from IPython.display import display\n",
        "import fileupload\n",
        "import io\n",
        "import sys"
      ],
      "execution_count": 0,
      "outputs": []
    },
    {
      "cell_type": "code",
      "metadata": {
        "id": "XKIXyjYCnbZ3",
        "colab_type": "code",
        "colab": {}
      },
      "source": [
        "# This is the uploader widget\n",
        "\n",
        "def _upload():\n",
        "\n",
        "    _upload_widget = fileupload.FileUploadWidget()\n",
        "\n",
        "    def _cb(change):\n",
        "        global file_contents\n",
        "        decoded = io.StringIO(change['owner'].data.decode('utf-8'))\n",
        "        filename = change['owner'].filename\n",
        "        print('Uploaded `{}` ({:.2f} kB)'.format(\n",
        "            filename, len(decoded.read()) / 2 **10))\n",
        "        file_contents = decoded.getvalue()\n",
        "\n",
        "    _upload_widget.observe(_cb, names='data')\n",
        "    display(_upload_widget)\n",
        "\n",
        "_upload()"
      ],
      "execution_count": 0,
      "outputs": []
    },
    {
      "cell_type": "code",
      "metadata": {
        "id": "b2ld-NN6nfzn",
        "colab_type": "code",
        "colab": {}
      },
      "source": [
        "def calculate_frequencies(file_contents):\n",
        "    # Here is a list of punctuations and uninteresting words you can use to process your text\n",
        "    punctuations = '''!()-[]{};:'\"\\,<>./?@#$%^&*_~'''\n",
        "    uninteresting_words = [\"the\", \"a\", \"to\", \"if\", \"is\", \"it\", \"of\", \"and\", \"or\", \"an\", \"as\", \"i\", \"me\", \"my\", \\\n",
        "    \"we\", \"our\", \"ours\", \"you\", \"your\", \"yours\", \"he\", \"she\", \"him\", \"his\", \"her\", \"hers\", \"its\", \"they\", \"them\", \\\n",
        "    \"their\", \"what\", \"which\", \"who\", \"whom\", \"this\", \"that\", \"am\", \"are\", \"was\", \"were\", \"be\", \"been\", \"being\", \\\n",
        "    \"have\", \"has\", \"had\", \"do\", \"does\", \"did\", \"but\", \"at\", \"by\", \"with\", \"from\", \"here\", \"when\", \"where\", \"how\", \\\n",
        "    \"all\", \"any\", \"both\", \"each\", \"few\", \"more\", \"some\", \"such\", \"no\", \"nor\", \"too\", \"very\", \"can\", \"will\", \"just\"]\n",
        "    \n",
        "    # LEARNER CODE START HERE\n",
        "    new_f_c=''\n",
        "    for letter in file_contents:\n",
        "        if letter not in punctuations:\n",
        "            if letter == \" \" or letter.isalpha():\n",
        "                new_f_c += letter\n",
        "    res_dict={}\n",
        "    for _ in new_f_c.split():\n",
        "        if _.lower() not in uninteresting_words:\n",
        "            if _.upper() not in res_dict:\n",
        "                res_dict[_.upper()] = 1\n",
        "            else:\n",
        "                res_dict[_.upper()] += 1\n",
        "            \n",
        "    #wordcloud\n",
        "    cloud = wordcloud.WordCloud()\n",
        "    cloud.generate_from_frequencies(res_dict)\n",
        "    return cloud.to_array()"
      ],
      "execution_count": 0,
      "outputs": []
    },
    {
      "cell_type": "code",
      "metadata": {
        "id": "nMg5e4pLnggP",
        "colab_type": "code",
        "colab": {}
      },
      "source": [
        "# Display your wordcloud image\n",
        "\n",
        "myimage = calculate_frequencies(file_contents)\n",
        "plt.imshow(myimage, interpolation = 'nearest')\n",
        "plt.axis('off')\n",
        "plt.show()"
      ],
      "execution_count": 0,
      "outputs": []
    }
  ]
}